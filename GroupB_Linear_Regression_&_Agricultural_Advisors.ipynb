{
  "nbformat": 4,
  "nbformat_minor": 0,
  "metadata": {
    "colab": {
      "private_outputs": true,
      "provenance": [],
      "authorship_tag": "ABX9TyPzTg6yZNmaXZbphpDL/jqe",
      "include_colab_link": true
    },
    "kernelspec": {
      "name": "python3",
      "display_name": "Python 3"
    },
    "language_info": {
      "name": "python"
    }
  },
  "cells": [
    {
      "cell_type": "markdown",
      "metadata": {
        "id": "view-in-github",
        "colab_type": "text"
      },
      "source": [
        "<a href=\"https://colab.research.google.com/github/Fonyuy-pounds/FINALS/blob/master/GroupB_Linear_Regression_%26_Agricultural_Advisors.ipynb\" target=\"_parent\"><img src=\"https://colab.research.google.com/assets/colab-badge.svg\" alt=\"Open In Colab\"/></a>"
      ]
    },
    {
      "cell_type": "code",
      "execution_count": null,
      "metadata": {
        "id": "0bfIWX-qzpTi"
      },
      "outputs": [],
      "source": []
    },
    {
      "cell_type": "markdown",
      "source": [
        " # Task 1: Building Linear Regression Model\n",
        "     ## Data Preprocessing\n",
        "     ## Model Implementation\n",
        "     ## Model Evaluation\n",
        "     # Task 2: Agricultural Advisor Tool\n",
        "     ## Plant Disease Detection\n",
        "     ## Multilingual Voice Assistant\n",
        "     ## Gradio UI Development\n",
        "     \n"
      ],
      "metadata": {
        "id": "B7sOE4Od0LTO"
      }
    },
    {
      "cell_type": "code",
      "source": [
        "#data preprocessing\n"
      ],
      "metadata": {
        "id": "DR1N6mED0vLW"
      },
      "execution_count": null,
      "outputs": []
    },
    {
      "cell_type": "code",
      "source": [
        "# Model Implementation"
      ],
      "metadata": {
        "id": "gYduTgcp2Mim"
      },
      "execution_count": null,
      "outputs": []
    },
    {
      "cell_type": "code",
      "source": [
        "#Agricultural Advisor Tool"
      ],
      "metadata": {
        "id": "mDfPXkO12O-R"
      },
      "execution_count": null,
      "outputs": []
    },
    {
      "cell_type": "code",
      "source": [
        "# Plant Disease Detection"
      ],
      "metadata": {
        "id": "j6RGvt202aII"
      },
      "execution_count": null,
      "outputs": []
    },
    {
      "cell_type": "code",
      "source": [
        "# Multilingual Voice Assistant\n"
      ],
      "metadata": {
        "id": "2veaNfUk2elV"
      },
      "execution_count": null,
      "outputs": []
    },
    {
      "cell_type": "code",
      "source": [
        "# Gradio UI Development\n",
        "\n"
      ],
      "metadata": {
        "id": "fkkB1XbL2jqT"
      },
      "execution_count": null,
      "outputs": []
    }
  ]
}